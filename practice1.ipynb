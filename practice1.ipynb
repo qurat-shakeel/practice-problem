{
  "nbformat": 4,
  "nbformat_minor": 0,
  "metadata": {
    "colab": {
      "provenance": []
    },
    "kernelspec": {
      "name": "python3",
      "display_name": "Python 3"
    },
    "language_info": {
      "name": "python"
    }
  },
  "cells": [
    {
      "cell_type": "code",
      "source": [
        "string = 'Hello World'\n",
        "iterObj = iter(string)\n",
        "\n",
        "while True:\n",
        "    try:\n",
        "        char1 = next(iterObj)\n",
        "        print(char1)\n",
        "    except StopIteration:\n",
        "        break"
      ],
      "metadata": {
        "colab": {
          "base_uri": "https://localhost:8080/"
        },
        "id": "rBXtW3uOoPhc",
        "outputId": "c52e9e24-cca7-4bbb-e8de-1c236ce05a45"
      },
      "execution_count": 5,
      "outputs": [
        {
          "output_type": "stream",
          "name": "stdout",
          "text": [
            "H\n",
            "e\n",
            "l\n",
            "l\n",
            "o\n",
            " \n",
            "W\n",
            "o\n",
            "r\n",
            "l\n",
            "d\n"
          ]
        }
      ]
    },
    {
      "cell_type": "code",
      "source": [
        "import json\n",
        "\n",
        "# JSON String:\n",
        "colors =  '[\"Red\", \"Yellow\", \"Green\", \"Blue\"]'\n",
        "\n",
        "# JSON string to python dictionary:\n",
        "lst1 = json.loads(colors)\n",
        "print(lst1)"
      ],
      "metadata": {
        "colab": {
          "base_uri": "https://localhost:8080/"
        },
        "id": "ZAAMBp1Ioij7",
        "outputId": "09b89618-a066-4dfa-de4c-efa7bb74c03d"
      },
      "execution_count": 7,
      "outputs": [
        {
          "output_type": "stream",
          "name": "stdout",
          "text": [
            "['Red', 'Yellow', 'Green', 'Blue']\n"
          ]
        }
      ]
    },
    {
      "cell_type": "code",
      "source": [
        "import json\n",
        "\n",
        "# python dictionary\n",
        "lst1 = ['Red', 'Yellow', 'Green', 'Blue']\n",
        "\n",
        "# Convert Python dict to JSON\n",
        "jsonObj = json.dumps(lst1)\n",
        "print(jsonObj)"
      ],
      "metadata": {
        "colab": {
          "base_uri": "https://localhost:8080/"
        },
        "id": "B02MdoYSonKq",
        "outputId": "1bde1b3a-3da4-456c-8b8c-8cbed33236fe"
      },
      "execution_count": 8,
      "outputs": [
        {
          "output_type": "stream",
          "name": "stdout",
          "text": [
            "[\"Red\", \"Yellow\", \"Green\", \"Blue\"]\n"
          ]
        }
      ]
    },
    {
      "cell_type": "code",
      "source": [
        "import json\n",
        "\n",
        "print(json.dumps(22))               #integer\n",
        "print(json.dumps(6.022))            #float\n",
        "print(json.dumps(\"Hello World\"))    #string\n",
        "print(json.dumps(True))             #True\n",
        "print(json.dumps(False))            #False\n",
        "print(json.dumps(None))"
      ],
      "metadata": {
        "colab": {
          "base_uri": "https://localhost:8080/"
        },
        "id": "nV3eLnz9ouVn",
        "outputId": "8f160877-41bf-4245-a485-e7ffbfa06232"
      },
      "execution_count": 9,
      "outputs": [
        {
          "output_type": "stream",
          "name": "stdout",
          "text": [
            "22\n",
            "6.022\n",
            "\"Hello World\"\n",
            "true\n",
            "false\n",
            "null\n"
          ]
        }
      ]
    },
    {
      "cell_type": "code",
      "source": [
        "import calendar\n",
        "\n",
        "print(calendar.month(2024, 3))"
      ],
      "metadata": {
        "colab": {
          "base_uri": "https://localhost:8080/"
        },
        "id": "V4kMl3rio47K",
        "outputId": "379b9d3c-67f7-4381-f9bd-b2cb7ee215d3"
      },
      "execution_count": 11,
      "outputs": [
        {
          "output_type": "stream",
          "name": "stdout",
          "text": [
            "     March 2024\n",
            "Mo Tu We Th Fr Sa Su\n",
            "             1  2  3\n",
            " 4  5  6  7  8  9 10\n",
            "11 12 13 14 15 16 17\n",
            "18 19 20 21 22 23 24\n",
            "25 26 27 28 29 30 31\n",
            "\n"
          ]
        }
      ]
    }
  ]
}