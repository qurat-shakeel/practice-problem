{
  "nbformat": 4,
  "nbformat_minor": 0,
  "metadata": {
    "colab": {
      "provenance": []
    },
    "kernelspec": {
      "name": "python3",
      "display_name": "Python 3"
    },
    "language_info": {
      "name": "python"
    }
  },
  "cells": [
    {
      "cell_type": "code",
      "execution_count": 8,
      "metadata": {
        "colab": {
          "base_uri": "https://localhost:8080/"
        },
        "id": "1iq0QfgYf_vy",
        "outputId": "2906b0fe-dff0-447f-ca45-00ae0187172d"
      },
      "outputs": [
        {
          "output_type": "stream",
          "name": "stdout",
          "text": [
            "5\n",
            "12345"
          ]
        }
      ],
      "source": [
        "\n",
        "    n = int(input())\n",
        "    for i in range(1,n+1):\n",
        "        print(i,end='')"
      ]
    },
    {
      "cell_type": "code",
      "source": [
        "year = int(input(\"Enter a year: \"))\n",
        "\n",
        "if year % 4 == 0:\n",
        "    if year % 100 == 0:\n",
        "        if year % 400 == 0:\n",
        "            print(year, \"is a leap year\")\n",
        "        else:\n",
        "            print(year, \"is not a leap year\")\n",
        "    else:\n",
        "        print(year, \"is a leap year\")\n",
        "else:\n",
        "    print(year, \"is not a leap year\")\n"
      ],
      "metadata": {
        "colab": {
          "base_uri": "https://localhost:8080/"
        },
        "id": "CUkQ9Ew3gXy7",
        "outputId": "dca8fd4d-0bd0-4f32-802f-b009d68671ae"
      },
      "execution_count": 7,
      "outputs": [
        {
          "output_type": "stream",
          "name": "stdout",
          "text": [
            "Enter a year: 1992\n",
            "1992 is a leap year\n"
          ]
        }
      ]
    }
  ]
}