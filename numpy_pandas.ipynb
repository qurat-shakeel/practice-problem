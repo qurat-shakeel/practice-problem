{
  "nbformat": 4,
  "nbformat_minor": 0,
  "metadata": {
    "colab": {
      "provenance": []
    },
    "kernelspec": {
      "name": "python3",
      "display_name": "Python 3"
    },
    "language_info": {
      "name": "python"
    }
  },
  "cells": [
    {
      "cell_type": "code",
      "execution_count": 1,
      "metadata": {
        "colab": {
          "base_uri": "https://localhost:8080/"
        },
        "id": "JhxWc_lBYU78",
        "outputId": "ff3d5797-3fe2-46d0-f43b-398822156083"
      },
      "outputs": [
        {
          "output_type": "stream",
          "name": "stdout",
          "text": [
            "Original Array: [1 2 3 4 5]\n",
            "Squared Array: [ 1  4  9 16 25]\n",
            "Broadcasted Array: [11 12 13 14 15]\n",
            "Matrix Product:\n",
            " [[19 22]\n",
            " [43 50]]\n"
          ]
        }
      ],
      "source": [
        "import numpy as np\n",
        "\n",
        "# Creating an array\n",
        "arr = np.array([1, 2, 3, 4, 5])\n",
        "\n",
        "# Performing arithmetic operations\n",
        "arr_squared = arr ** 2\n",
        "\n",
        "# Broadcasting\n",
        "arr_broadcast = arr + 10\n",
        "\n",
        "# Linear algebra operations\n",
        "matrix_a = np.array([[1, 2], [3, 4]])\n",
        "matrix_b = np.array([[5, 6], [7, 8]])\n",
        "matrix_product = np.dot(matrix_a, matrix_b)\n",
        "\n",
        "print(\"Original Array:\", arr)\n",
        "print(\"Squared Array:\", arr_squared)\n",
        "print(\"Broadcasted Array:\", arr_broadcast)\n",
        "print(\"Matrix Product:\\n\", matrix_product)\n"
      ]
    },
    {
      "cell_type": "code",
      "source": [
        "import pandas as pd\n",
        "\n",
        "# Creating a DataFrame from a dictionary\n",
        "data = {\n",
        "    'Name': ['Alice', 'Bob', 'Charlie', 'David'],\n",
        "    'Age': [25, 30, 35, 40],\n",
        "    'City': ['New York', 'Los Angeles', 'Chicago', 'Houston']\n",
        "}\n",
        "df = pd.DataFrame(data)\n",
        "\n",
        "# Displaying the DataFrame\n",
        "print(\"Original DataFrame:\")\n",
        "print(df)\n",
        "\n",
        "# Filtering data\n",
        "filtered_df = df[df['Age'] > 30]\n",
        "\n",
        "# Displaying filtered data\n",
        "print(\"\\nFiltered DataFrame:\")\n",
        "print(filtered_df)\n"
      ],
      "metadata": {
        "colab": {
          "base_uri": "https://localhost:8080/"
        },
        "id": "E5khLp7UYb1O",
        "outputId": "6935de54-8efc-4d86-acda-25123a09aeea"
      },
      "execution_count": 2,
      "outputs": [
        {
          "output_type": "stream",
          "name": "stdout",
          "text": [
            "Original DataFrame:\n",
            "      Name  Age         City\n",
            "0    Alice   25     New York\n",
            "1      Bob   30  Los Angeles\n",
            "2  Charlie   35      Chicago\n",
            "3    David   40      Houston\n",
            "\n",
            "Filtered DataFrame:\n",
            "      Name  Age     City\n",
            "2  Charlie   35  Chicago\n",
            "3    David   40  Houston\n"
          ]
        }
      ]
    }
  ]
}