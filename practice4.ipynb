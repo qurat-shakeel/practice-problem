{
  "nbformat": 4,
  "nbformat_minor": 0,
  "metadata": {
    "colab": {
      "provenance": []
    },
    "kernelspec": {
      "name": "python3",
      "display_name": "Python 3"
    },
    "language_info": {
      "name": "python"
    }
  },
  "cells": [
    {
      "cell_type": "markdown",
      "source": [],
      "metadata": {
        "id": "XqBKzc-0mJJo"
      }
    },
    {
      "cell_type": "code",
      "execution_count": null,
      "metadata": {
        "id": "BjOLs0n-kKJf"
      },
      "outputs": [],
      "source": [
        "def is_leap(year):\n",
        "\n",
        "\n",
        "      if year %4 == 0 and year %100 !=0:\n",
        "        return True\n",
        "      elif year %4 == 0:\n",
        "        if year %100 ==0:\n",
        "            if year %400 ==0:\n",
        "                return True\n",
        "            else:\n",
        "                return False\n",
        "        else:\n",
        "            return False\n",
        "      else:\n",
        "        return False\n",
        "\n",
        "\n"
      ]
    }
  ]
}