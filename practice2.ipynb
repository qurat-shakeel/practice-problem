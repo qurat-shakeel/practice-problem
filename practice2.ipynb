{
  "nbformat": 4,
  "nbformat_minor": 0,
  "metadata": {
    "colab": {
      "provenance": []
    },
    "kernelspec": {
      "name": "python3",
      "display_name": "Python 3"
    },
    "language_info": {
      "name": "python"
    }
  },
  "cells": [
    {
      "cell_type": "code",
      "source": [
        "a = int(input(\"enter number:\"))\n",
        "b = int(input(\"enter number\"))\n",
        "print(a+b)\n",
        "print(a-b)\n",
        "print(a*b)"
      ],
      "metadata": {
        "colab": {
          "base_uri": "https://localhost:8080/"
        },
        "id": "DGhfiwcbTqiF",
        "outputId": "424477d7-649d-42fc-f0f9-5962771fd5ad"
      },
      "execution_count": 21,
      "outputs": [
        {
          "output_type": "stream",
          "name": "stdout",
          "text": [
            "enter number:3\n",
            "enter number5\n",
            "8\n",
            "-2\n",
            "15\n"
          ]
        }
      ]
    },
    {
      "cell_type": "code",
      "source": [
        "n = int(input(\"enter your number\"))\n",
        "if n%2 != 0:\n",
        "    print(\"Weird\")\n",
        "elif n%2==0 and n>1 and n<6:\n",
        "    print(\"Not Weird\")\n",
        "elif n%2==0 and n>5 and n<21:\n",
        "    print(\"Weird\")\n",
        "elif n%2==0 and n>20:\n",
        "    print(\"Not Weird\")"
      ],
      "metadata": {
        "colab": {
          "base_uri": "https://localhost:8080/"
        },
        "id": "Ub4B3lRWPSpt",
        "outputId": "de4a0b84-7946-4bce-b299-91d2bdbb16cd"
      },
      "execution_count": 23,
      "outputs": [
        {
          "output_type": "stream",
          "name": "stdout",
          "text": [
            "enter your number4\n",
            "Not Weird\n"
          ]
        }
      ]
    }
  ]
}