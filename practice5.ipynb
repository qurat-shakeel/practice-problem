{
  "nbformat": 4,
  "nbformat_minor": 0,
  "metadata": {
    "colab": {
      "provenance": []
    },
    "kernelspec": {
      "name": "python3",
      "display_name": "Python 3"
    },
    "language_info": {
      "name": "python"
    }
  },
  "cells": [
    {
      "cell_type": "code",
      "execution_count": null,
      "metadata": {
        "id": "Y4UZNgEP7Its"
      },
      "outputs": [],
      "source": [
        "# Complete the solve function below.\n",
        "def solve(s):\n",
        "    for x in s[:].split():\n",
        "        s = s.replace(x, x.capitalize())\n",
        "    return s\n",
        "if __name__ == '__main__':\n",
        "    fptr = open(os.environ['OUTPUT_PATH'], 'w')\n",
        "\n",
        "    s = input()\n",
        "\n",
        "    result = solve(s)\n",
        "\n",
        "    fptr.write(result + '\\n')\n",
        "\n",
        "    fptr.close()"
      ]
    },
    {
      "cell_type": "code",
      "source": [
        "# alphabet rangoli\n",
        "def print_rangoli(size):\n",
        "    import string\n",
        "    design = string.ascii_lowercase\n",
        "    L = []\n",
        "    for i in range(n):\n",
        "        s = \"-\".join(design[i:n])\n",
        "        L.append((s[::-1]+s[1:]).center(4*n-3, \"-\"))\n",
        "\n",
        "    print('\\n'.join(L[:0:-1]+L))\n",
        "if __name__ == '__main__':\n",
        "    n = int(input())\n",
        "    print_rangoli(n)"
      ],
      "metadata": {
        "colab": {
          "base_uri": "https://localhost:8080/"
        },
        "id": "d3yoGrqA7Mdm",
        "outputId": "c70f441b-1ade-48e7-b2cb-85180772c03c"
      },
      "execution_count": 3,
      "outputs": [
        {
          "output_type": "stream",
          "name": "stdout",
          "text": [
            "3\n",
            "----c----\n",
            "--c-b-c--\n",
            "c-b-a-b-c\n",
            "--c-b-c--\n",
            "----c----\n"
          ]
        }
      ]
    },
    {
      "cell_type": "code",
      "source": [
        "# minion game\n",
        "def minion_game(string):\n",
        "    vowel = 'aeiou'.upper()\n",
        "    strl = len(string)\n",
        "    kevin = sum(strl-i for i in range(strl) if string[i] in vowel)\n",
        "    stuart = strl*(strl + 1)/2 - kevin\n",
        "    if kevin == stuart:\n",
        "        print ('Draw')\n",
        "    elif kevin > stuart:\n",
        "        print ('Kevin %d' % kevin)\n",
        "    else:\n",
        "        print ('Stuart %d' % stuart)\n",
        "\n",
        "if __name__ == '__main__':\n",
        "    s = input()\n",
        "    minion_game(s)"
      ],
      "metadata": {
        "id": "yEODnrS88Mu4"
      },
      "execution_count": null,
      "outputs": []
    }
  ]
}