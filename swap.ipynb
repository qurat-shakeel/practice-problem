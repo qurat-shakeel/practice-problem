{
  "nbformat": 4,
  "nbformat_minor": 0,
  "metadata": {
    "colab": {
      "provenance": []
    },
    "kernelspec": {
      "name": "python3",
      "display_name": "Python 3"
    },
    "language_info": {
      "name": "python"
    }
  },
  "cells": [
    {
      "cell_type": "code",
      "execution_count": 3,
      "metadata": {
        "id": "JhBhsCALzhBW"
      },
      "outputs": [],
      "source": [
        "#swap case\n",
        "def swap_case(s):\n",
        "    return ''.join([c.upper() if c.islower() else c.lower() for c in s])\n",
        "\n",
        "#if __name__ == '__main__':"
      ]
    },
    {
      "cell_type": "code",
      "source": [
        "# string split and join\n",
        "def split_and_join(line):\n",
        "    # write your code here\n",
        "    line = line.split(\" \")\n",
        "    line = \"-\".join(line)\n",
        "    return line\n",
        "if __name__ == '__main__':\n",
        "    line = input()\n",
        "    result = split_and_join(line)\n",
        "    print(result)"
      ],
      "metadata": {
        "id": "7tMC0sHSz_Kl"
      },
      "execution_count": null,
      "outputs": []
    },
    {
      "cell_type": "code",
      "source": [
        "# mutate\n",
        "def mutate_string(string, position, character):\n",
        "    lst = list(string)\n",
        "    lst[position] = character\n",
        "    string = \"\".join(lst)\n",
        "    return string\n",
        "\n",
        "if __name__ == '__main__':\n",
        "    s = input()\n",
        "    i, c = input().split()\n",
        "    s_new = mutate_string(s, int(i), c)\n",
        "    print(s_new)"
      ],
      "metadata": {
        "colab": {
          "base_uri": "https://localhost:8080/"
        },
        "id": "7mLlnUVW3C99",
        "outputId": "d3278a45-622d-48f0-f489-88491cd8aca2"
      },
      "execution_count": null,
      "outputs": [
        {
          "name": "stdout",
          "output_type": "stream",
          "text": [
            "qurat\n"
          ]
        }
      ]
    }
  ]
}